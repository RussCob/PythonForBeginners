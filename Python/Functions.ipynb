{
 "cells": [
  {
   "cell_type": "code",
   "execution_count": 2,
   "metadata": {},
   "outputs": [
    {
     "name": "stdout",
     "output_type": "stream",
     "text": [
      "What's up\n"
     ]
    }
   ],
   "source": [
    "# Creating a function use \"def\" then give a name\n",
    "def sayHi() : \n",
    "    print(\"What's up\")\n",
    "\n",
    "# then call fucntion\n",
    "sayHi()"
   ]
  },
  {
   "cell_type": "code",
   "execution_count": 5,
   "metadata": {},
   "outputs": [
    {
     "name": "stdout",
     "output_type": "stream",
     "text": [
      "What's up Jordan your lucky number 7\n"
     ]
    }
   ],
   "source": [
    "# Parameters & Arguments\n",
    "def sayHi(name, number):\n",
    "    print(\"What's up \" + name + \" your lucky number \" + str(number))\n",
    "\n",
    "sayHi(\"Jordan\", 7)\n"
   ]
  }
 ],
 "metadata": {
  "kernelspec": {
   "display_name": "Python 3",
   "language": "python",
   "name": "python3"
  },
  "language_info": {
   "codemirror_mode": {
    "name": "ipython",
    "version": 3
   },
   "file_extension": ".py",
   "mimetype": "text/x-python",
   "name": "python",
   "nbconvert_exporter": "python",
   "pygments_lexer": "ipython3",
   "version": "3.7.6"
  }
 },
 "nbformat": 4,
 "nbformat_minor": 4
}
