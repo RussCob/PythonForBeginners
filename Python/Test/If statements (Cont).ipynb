{
 "cells": [
  {
   "cell_type": "code",
   "execution_count": 3,
   "metadata": {},
   "outputs": [
    {
     "name": "stdout",
     "output_type": "stream",
     "text": [
      "9\n"
     ]
    }
   ],
   "source": [
    "# Comparisons\n",
    "\n",
    "def max_num(num1,num2,num3):\n",
    "    if num1 >= num2 and num1>= num3:\n",
    "        return num1\n",
    "    elif num2 >= num1 and num1>= num3:\n",
    "        return num2\n",
    "    else:\n",
    "        return num3\n",
    "    \n",
    "print(max_num(7, 71,9))"
   ]
  },
  {
   "cell_type": "code",
   "execution_count": 6,
   "metadata": {},
   "outputs": [
    {
     "name": "stdout",
     "output_type": "stream",
     "text": [
      "You are not a student and not smart\n"
     ]
    }
   ],
   "source": [
    "# Another example\n",
    "\n",
    "student = False\n",
    "smart = True\n",
    "\n",
    "if student and smart:\n",
    "    print(\"You are a student\")\n",
    "elif student and not(smart):\n",
    "    print(\"You are not a smart student\")\n",
    "else:\n",
    "    print(\"You are not a student and not smart\")\n",
    "\n",
    "\n",
    "# >, <, >=, <=, !=, ==\n",
    "if 1 > 3:\n",
    "    print(\"number omparison was true\")\n",
    "\n",
    "\n",
    "if \"dog\" == \"wolf\":\n",
    "    print(\"string omparison was true\")\n"
   ]
  }
 ],
 "metadata": {
  "kernelspec": {
   "display_name": "Python 3",
   "language": "python",
   "name": "python3"
  },
  "language_info": {
   "codemirror_mode": {
    "name": "ipython",
    "version": 3
   },
   "file_extension": ".py",
   "mimetype": "text/x-python",
   "name": "python",
   "nbconvert_exporter": "python",
   "pygments_lexer": "ipython3",
   "version": "3.7.6"
  }
 },
 "nbformat": 4,
 "nbformat_minor": 4
}
