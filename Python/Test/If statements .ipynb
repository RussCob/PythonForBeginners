{
 "cells": [
  {
   "cell_type": "code",
   "execution_count": 2,
   "metadata": {},
   "outputs": [
    {
     "name": "stdout",
     "output_type": "stream",
     "text": [
      "Yoooo!!!\n"
     ]
    }
   ],
   "source": [
    "# creating if statements, first boolean then\n",
    "\n",
    "is_male = True\n",
    "\n",
    "if is_male:\n",
    "    print(\"Yoooo!!!\")"
   ]
  },
  {
   "cell_type": "code",
   "execution_count": 3,
   "metadata": {},
   "outputs": [],
   "source": [
    "# Is not gonna print beacuse Condition false\n",
    "is_male = False\n",
    "\n",
    "if is_male:\n",
    "    print(\"Yoooo!!!\")"
   ]
  },
  {
   "cell_type": "code",
   "execution_count": 4,
   "metadata": {},
   "outputs": [
    {
     "name": "stdout",
     "output_type": "stream",
     "text": [
      "Sorry Miss\n"
     ]
    }
   ],
   "source": [
    "# using else for false\n",
    "is_male = False\n",
    "\n",
    "if is_male:\n",
    "    print(\"Yoooo!!!\")\n",
    "else:\n",
    "    print(\"Sorry Miss\")"
   ]
  },
  {
   "cell_type": "code",
   "execution_count": 5,
   "metadata": {},
   "outputs": [
    {
     "name": "stdout",
     "output_type": "stream",
     "text": [
      "You are a male or short or both\n"
     ]
    }
   ],
   "source": [
    "# Using or \n",
    "is_male = True\n",
    "is_short = True\n",
    "\n",
    "if is_male or is_short:\n",
    "    print(\"You are a male or short or both\")\n",
    "else:\n",
    "    print(\"You neither male or short\")"
   ]
  },
  {
   "cell_type": "code",
   "execution_count": 6,
   "metadata": {},
   "outputs": [
    {
     "name": "stdout",
     "output_type": "stream",
     "text": [
      "You are a male or short or both\n"
     ]
    }
   ],
   "source": [
    "# or\n",
    "is_male = True\n",
    "is_short = False\n",
    "\n",
    "if is_male or is_short:\n",
    "    print(\"You are a male or short or both\")\n",
    "else:\n",
    "    print(\"You neither male or short\")"
   ]
  },
  {
   "cell_type": "code",
   "execution_count": 7,
   "metadata": {},
   "outputs": [
    {
     "name": "stdout",
     "output_type": "stream",
     "text": [
      "You neither male or short\n"
     ]
    }
   ],
   "source": [
    "# if both conditions are false then print else\n",
    "is_male = False\n",
    "is_short = False\n",
    "\n",
    "if is_male or is_short:\n",
    "    print(\"You are a male or short or both\")\n",
    "else:\n",
    "    print(\"You neither male or short\")"
   ]
  },
  {
   "cell_type": "code",
   "execution_count": 9,
   "metadata": {},
   "outputs": [
    {
     "name": "stdout",
     "output_type": "stream",
     "text": [
      "You are a tall male\n"
     ]
    }
   ],
   "source": [
    "# adding more conditions \n",
    "is_male = True\n",
    "is_short = False\n",
    "\n",
    "if is_male and is_short:\n",
    "    print(\"You are a male or short or both\")\n",
    "elif is_male and not (is_short):\n",
    "    print(\"You are a tall male\")\n",
    "elif not (is_male) and  is_short:\n",
    "    print(\"You are not male but you are shorty\")\n",
    "else:\n",
    "    print(\"You are not a male and not short\")"
   ]
  },
  {
   "cell_type": "code",
   "execution_count": null,
   "metadata": {},
   "outputs": [],
   "source": []
  }
 ],
 "metadata": {
  "kernelspec": {
   "display_name": "Python 3",
   "language": "python",
   "name": "python3"
  },
  "language_info": {
   "codemirror_mode": {
    "name": "ipython",
    "version": 3
   },
   "file_extension": ".py",
   "mimetype": "text/x-python",
   "name": "python",
   "nbconvert_exporter": "python",
   "pygments_lexer": "ipython3",
   "version": "3.7.6"
  }
 },
 "nbformat": 4,
 "nbformat_minor": 4
}
